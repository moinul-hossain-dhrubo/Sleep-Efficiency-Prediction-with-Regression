{
  "nbformat": 4,
  "nbformat_minor": 0,
  "metadata": {
    "colab": {
      "provenance": [],
      "toc_visible": true
    },
    "kernelspec": {
      "name": "python3",
      "display_name": "Python 3"
    },
    "language_info": {
      "name": "python"
    }
  },
  "cells": [
    {
      "cell_type": "markdown",
      "source": [
        "##About Dataset:\n",
        "####The dataset contains information about a group of test subjects and their sleep patterns. Each test subject is identified by a unique \"Subject ID\" and their age and gender are also recorded. The \"Bedtime\" and \"Wakeup time\" features indicate when each subject goes to bed and wakes up each day, and the \"Sleep duration\" feature records the total amount of time each subject slept in hours. The \"Sleep efficiency\" feature is a measure of the proportion of time spent in bed that is actually spent asleep. The \"REM sleep percentage\", \"Deep sleep percentage\", and \"Light sleep percentage\" features indicate the amount of time each subject spent in each stage of sleep. The \"Awakenings\" feature records the number of times each subject wakes up during the night. Additionally, the dataset includes information about each subject's caffeine and alcohol consumption in the 24 hours prior to bedtime, their smoking status, and their exercise frequency."
      ],
      "metadata": {
        "id": "DVhrD5CtfMk4"
      }
    },
    {
      "cell_type": "markdown",
      "source": [
        "##Summary:\n",
        "\n",
        "-Goal of the project is to predict sleep efficiency with respective features\n",
        "\n",
        "-Methods used : Linear Regression, Ridge Regression, Lasso Regression\n",
        "\n",
        "-Performance of methods : Linear and Ridge Regression(alpha=0.08) performed pretty similar and Lasso could not perform well at all\n",
        "\n",
        "-Verdict : Both Linear Regression and Ridge Regression can be used"
      ],
      "metadata": {
        "id": "Gqr-kinYzvk5"
      }
    },
    {
      "cell_type": "markdown",
      "source": [
        "##Importing Libraries"
      ],
      "metadata": {
        "id": "CNHOO3ARfUf8"
      }
    },
    {
      "cell_type": "code",
      "execution_count": null,
      "metadata": {
        "id": "3xK3Fb1XcAJw"
      },
      "outputs": [],
      "source": [
        "# Everyday data science libraries\n",
        "import pandas as pd\n",
        "import numpy as np\n",
        "import matplotlib.pyplot as plt\n",
        "import seaborn as sns\n",
        "\n",
        "# Model libraries, scaling, metrics, etc\n",
        "from sklearn.preprocessing import StandardScaler\n",
        "\n",
        "# for building linear regression models and preparing data\n",
        "from sklearn.linear_model import LinearRegression\n",
        "from sklearn.preprocessing import StandardScaler, PolynomialFeatures\n",
        "from sklearn.model_selection import train_test_split\n",
        "from sklearn.metrics import mean_squared_error, mean_absolute_error, r2_score"
      ]
    },
    {
      "cell_type": "code",
      "source": [
        "# Load Dataset \n",
        "\n",
        "df = pd.read_csv('Sleep_Efficiency.csv')\n",
        "df"
      ],
      "metadata": {
        "colab": {
          "base_uri": "https://localhost:8080/",
          "height": 659
        },
        "id": "1wESfRZpcIlA",
        "outputId": "7dcc71b8-2b7b-48b2-a2c4-e5f55d915bcb"
      },
      "execution_count": null,
      "outputs": [
        {
          "output_type": "execute_result",
          "data": {
            "text/plain": [
              "      ID  Age  Gender              Bedtime          Wakeup time  \\\n",
              "0      1   65  Female  2021-03-06 01:00:00  2021-03-06 07:00:00   \n",
              "1      2   69    Male  2021-12-05 02:00:00  2021-12-05 09:00:00   \n",
              "2      3   40  Female  2021-05-25 21:30:00  2021-05-25 05:30:00   \n",
              "3      4   40  Female  2021-11-03 02:30:00  2021-11-03 08:30:00   \n",
              "4      5   57    Male  2021-03-13 01:00:00  2021-03-13 09:00:00   \n",
              "..   ...  ...     ...                  ...                  ...   \n",
              "447  448   27  Female  2021-11-13 22:00:00  2021-11-13 05:30:00   \n",
              "448  449   52    Male  2021-03-31 21:00:00  2021-03-31 03:00:00   \n",
              "449  450   40  Female  2021-09-07 23:00:00  2021-09-07 07:30:00   \n",
              "450  451   45    Male  2021-07-29 21:00:00  2021-07-29 04:00:00   \n",
              "451  452   18    Male  2021-03-17 02:30:00  2021-03-17 10:00:00   \n",
              "\n",
              "     Sleep duration  Sleep efficiency  REM sleep percentage  \\\n",
              "0               6.0              0.88                    18   \n",
              "1               7.0              0.66                    24   \n",
              "2               8.0              0.89                    20   \n",
              "3               6.0              0.51                    28   \n",
              "4               8.0              0.76                    27   \n",
              "..              ...               ...                   ...   \n",
              "447             7.5              0.91                    25   \n",
              "448             6.0              0.74                    28   \n",
              "449             8.5              0.55                    20   \n",
              "450             7.0              0.76                    18   \n",
              "451             7.5              0.63                    22   \n",
              "\n",
              "     Deep sleep percentage  Light sleep percentage  Awakenings  \\\n",
              "0                       70                      10         0.0   \n",
              "1                       28                      53         3.0   \n",
              "2                       70                      10         1.0   \n",
              "3                       25                      52         3.0   \n",
              "4                       55                      18         3.0   \n",
              "..                     ...                     ...         ...   \n",
              "447                     57                      21         0.0   \n",
              "448                     57                      21         4.0   \n",
              "449                     30                      48         1.0   \n",
              "450                     70                      10         3.0   \n",
              "451                     23                      54         1.0   \n",
              "\n",
              "     Caffeine consumption  Alcohol consumption Smoking status  \\\n",
              "0                     0.0                  0.0            Yes   \n",
              "1                     0.0                  3.0            Yes   \n",
              "2                     0.0                  0.0             No   \n",
              "3                    50.0                  5.0            Yes   \n",
              "4                     0.0                  3.0             No   \n",
              "..                    ...                  ...            ...   \n",
              "447                   0.0                  0.0             No   \n",
              "448                  25.0                  0.0             No   \n",
              "449                   NaN                  3.0            Yes   \n",
              "450                   0.0                  0.0             No   \n",
              "451                  50.0                  1.0             No   \n",
              "\n",
              "     Exercise frequency  \n",
              "0                   3.0  \n",
              "1                   3.0  \n",
              "2                   3.0  \n",
              "3                   1.0  \n",
              "4                   3.0  \n",
              "..                  ...  \n",
              "447                 5.0  \n",
              "448                 3.0  \n",
              "449                 0.0  \n",
              "450                 3.0  \n",
              "451                 1.0  \n",
              "\n",
              "[452 rows x 15 columns]"
            ],
            "text/html": [
              "\n",
              "  <div id=\"df-f35404c1-2fa1-4f1f-97f6-e5f37f43dd1c\">\n",
              "    <div class=\"colab-df-container\">\n",
              "      <div>\n",
              "<style scoped>\n",
              "    .dataframe tbody tr th:only-of-type {\n",
              "        vertical-align: middle;\n",
              "    }\n",
              "\n",
              "    .dataframe tbody tr th {\n",
              "        vertical-align: top;\n",
              "    }\n",
              "\n",
              "    .dataframe thead th {\n",
              "        text-align: right;\n",
              "    }\n",
              "</style>\n",
              "<table border=\"1\" class=\"dataframe\">\n",
              "  <thead>\n",
              "    <tr style=\"text-align: right;\">\n",
              "      <th></th>\n",
              "      <th>ID</th>\n",
              "      <th>Age</th>\n",
              "      <th>Gender</th>\n",
              "      <th>Bedtime</th>\n",
              "      <th>Wakeup time</th>\n",
              "      <th>Sleep duration</th>\n",
              "      <th>Sleep efficiency</th>\n",
              "      <th>REM sleep percentage</th>\n",
              "      <th>Deep sleep percentage</th>\n",
              "      <th>Light sleep percentage</th>\n",
              "      <th>Awakenings</th>\n",
              "      <th>Caffeine consumption</th>\n",
              "      <th>Alcohol consumption</th>\n",
              "      <th>Smoking status</th>\n",
              "      <th>Exercise frequency</th>\n",
              "    </tr>\n",
              "  </thead>\n",
              "  <tbody>\n",
              "    <tr>\n",
              "      <th>0</th>\n",
              "      <td>1</td>\n",
              "      <td>65</td>\n",
              "      <td>Female</td>\n",
              "      <td>2021-03-06 01:00:00</td>\n",
              "      <td>2021-03-06 07:00:00</td>\n",
              "      <td>6.0</td>\n",
              "      <td>0.88</td>\n",
              "      <td>18</td>\n",
              "      <td>70</td>\n",
              "      <td>10</td>\n",
              "      <td>0.0</td>\n",
              "      <td>0.0</td>\n",
              "      <td>0.0</td>\n",
              "      <td>Yes</td>\n",
              "      <td>3.0</td>\n",
              "    </tr>\n",
              "    <tr>\n",
              "      <th>1</th>\n",
              "      <td>2</td>\n",
              "      <td>69</td>\n",
              "      <td>Male</td>\n",
              "      <td>2021-12-05 02:00:00</td>\n",
              "      <td>2021-12-05 09:00:00</td>\n",
              "      <td>7.0</td>\n",
              "      <td>0.66</td>\n",
              "      <td>24</td>\n",
              "      <td>28</td>\n",
              "      <td>53</td>\n",
              "      <td>3.0</td>\n",
              "      <td>0.0</td>\n",
              "      <td>3.0</td>\n",
              "      <td>Yes</td>\n",
              "      <td>3.0</td>\n",
              "    </tr>\n",
              "    <tr>\n",
              "      <th>2</th>\n",
              "      <td>3</td>\n",
              "      <td>40</td>\n",
              "      <td>Female</td>\n",
              "      <td>2021-05-25 21:30:00</td>\n",
              "      <td>2021-05-25 05:30:00</td>\n",
              "      <td>8.0</td>\n",
              "      <td>0.89</td>\n",
              "      <td>20</td>\n",
              "      <td>70</td>\n",
              "      <td>10</td>\n",
              "      <td>1.0</td>\n",
              "      <td>0.0</td>\n",
              "      <td>0.0</td>\n",
              "      <td>No</td>\n",
              "      <td>3.0</td>\n",
              "    </tr>\n",
              "    <tr>\n",
              "      <th>3</th>\n",
              "      <td>4</td>\n",
              "      <td>40</td>\n",
              "      <td>Female</td>\n",
              "      <td>2021-11-03 02:30:00</td>\n",
              "      <td>2021-11-03 08:30:00</td>\n",
              "      <td>6.0</td>\n",
              "      <td>0.51</td>\n",
              "      <td>28</td>\n",
              "      <td>25</td>\n",
              "      <td>52</td>\n",
              "      <td>3.0</td>\n",
              "      <td>50.0</td>\n",
              "      <td>5.0</td>\n",
              "      <td>Yes</td>\n",
              "      <td>1.0</td>\n",
              "    </tr>\n",
              "    <tr>\n",
              "      <th>4</th>\n",
              "      <td>5</td>\n",
              "      <td>57</td>\n",
              "      <td>Male</td>\n",
              "      <td>2021-03-13 01:00:00</td>\n",
              "      <td>2021-03-13 09:00:00</td>\n",
              "      <td>8.0</td>\n",
              "      <td>0.76</td>\n",
              "      <td>27</td>\n",
              "      <td>55</td>\n",
              "      <td>18</td>\n",
              "      <td>3.0</td>\n",
              "      <td>0.0</td>\n",
              "      <td>3.0</td>\n",
              "      <td>No</td>\n",
              "      <td>3.0</td>\n",
              "    </tr>\n",
              "    <tr>\n",
              "      <th>...</th>\n",
              "      <td>...</td>\n",
              "      <td>...</td>\n",
              "      <td>...</td>\n",
              "      <td>...</td>\n",
              "      <td>...</td>\n",
              "      <td>...</td>\n",
              "      <td>...</td>\n",
              "      <td>...</td>\n",
              "      <td>...</td>\n",
              "      <td>...</td>\n",
              "      <td>...</td>\n",
              "      <td>...</td>\n",
              "      <td>...</td>\n",
              "      <td>...</td>\n",
              "      <td>...</td>\n",
              "    </tr>\n",
              "    <tr>\n",
              "      <th>447</th>\n",
              "      <td>448</td>\n",
              "      <td>27</td>\n",
              "      <td>Female</td>\n",
              "      <td>2021-11-13 22:00:00</td>\n",
              "      <td>2021-11-13 05:30:00</td>\n",
              "      <td>7.5</td>\n",
              "      <td>0.91</td>\n",
              "      <td>25</td>\n",
              "      <td>57</td>\n",
              "      <td>21</td>\n",
              "      <td>0.0</td>\n",
              "      <td>0.0</td>\n",
              "      <td>0.0</td>\n",
              "      <td>No</td>\n",
              "      <td>5.0</td>\n",
              "    </tr>\n",
              "    <tr>\n",
              "      <th>448</th>\n",
              "      <td>449</td>\n",
              "      <td>52</td>\n",
              "      <td>Male</td>\n",
              "      <td>2021-03-31 21:00:00</td>\n",
              "      <td>2021-03-31 03:00:00</td>\n",
              "      <td>6.0</td>\n",
              "      <td>0.74</td>\n",
              "      <td>28</td>\n",
              "      <td>57</td>\n",
              "      <td>21</td>\n",
              "      <td>4.0</td>\n",
              "      <td>25.0</td>\n",
              "      <td>0.0</td>\n",
              "      <td>No</td>\n",
              "      <td>3.0</td>\n",
              "    </tr>\n",
              "    <tr>\n",
              "      <th>449</th>\n",
              "      <td>450</td>\n",
              "      <td>40</td>\n",
              "      <td>Female</td>\n",
              "      <td>2021-09-07 23:00:00</td>\n",
              "      <td>2021-09-07 07:30:00</td>\n",
              "      <td>8.5</td>\n",
              "      <td>0.55</td>\n",
              "      <td>20</td>\n",
              "      <td>30</td>\n",
              "      <td>48</td>\n",
              "      <td>1.0</td>\n",
              "      <td>NaN</td>\n",
              "      <td>3.0</td>\n",
              "      <td>Yes</td>\n",
              "      <td>0.0</td>\n",
              "    </tr>\n",
              "    <tr>\n",
              "      <th>450</th>\n",
              "      <td>451</td>\n",
              "      <td>45</td>\n",
              "      <td>Male</td>\n",
              "      <td>2021-07-29 21:00:00</td>\n",
              "      <td>2021-07-29 04:00:00</td>\n",
              "      <td>7.0</td>\n",
              "      <td>0.76</td>\n",
              "      <td>18</td>\n",
              "      <td>70</td>\n",
              "      <td>10</td>\n",
              "      <td>3.0</td>\n",
              "      <td>0.0</td>\n",
              "      <td>0.0</td>\n",
              "      <td>No</td>\n",
              "      <td>3.0</td>\n",
              "    </tr>\n",
              "    <tr>\n",
              "      <th>451</th>\n",
              "      <td>452</td>\n",
              "      <td>18</td>\n",
              "      <td>Male</td>\n",
              "      <td>2021-03-17 02:30:00</td>\n",
              "      <td>2021-03-17 10:00:00</td>\n",
              "      <td>7.5</td>\n",
              "      <td>0.63</td>\n",
              "      <td>22</td>\n",
              "      <td>23</td>\n",
              "      <td>54</td>\n",
              "      <td>1.0</td>\n",
              "      <td>50.0</td>\n",
              "      <td>1.0</td>\n",
              "      <td>No</td>\n",
              "      <td>1.0</td>\n",
              "    </tr>\n",
              "  </tbody>\n",
              "</table>\n",
              "<p>452 rows × 15 columns</p>\n",
              "</div>\n",
              "      <button class=\"colab-df-convert\" onclick=\"convertToInteractive('df-f35404c1-2fa1-4f1f-97f6-e5f37f43dd1c')\"\n",
              "              title=\"Convert this dataframe to an interactive table.\"\n",
              "              style=\"display:none;\">\n",
              "        \n",
              "  <svg xmlns=\"http://www.w3.org/2000/svg\" height=\"24px\"viewBox=\"0 0 24 24\"\n",
              "       width=\"24px\">\n",
              "    <path d=\"M0 0h24v24H0V0z\" fill=\"none\"/>\n",
              "    <path d=\"M18.56 5.44l.94 2.06.94-2.06 2.06-.94-2.06-.94-.94-2.06-.94 2.06-2.06.94zm-11 1L8.5 8.5l.94-2.06 2.06-.94-2.06-.94L8.5 2.5l-.94 2.06-2.06.94zm10 10l.94 2.06.94-2.06 2.06-.94-2.06-.94-.94-2.06-.94 2.06-2.06.94z\"/><path d=\"M17.41 7.96l-1.37-1.37c-.4-.4-.92-.59-1.43-.59-.52 0-1.04.2-1.43.59L10.3 9.45l-7.72 7.72c-.78.78-.78 2.05 0 2.83L4 21.41c.39.39.9.59 1.41.59.51 0 1.02-.2 1.41-.59l7.78-7.78 2.81-2.81c.8-.78.8-2.07 0-2.86zM5.41 20L4 18.59l7.72-7.72 1.47 1.35L5.41 20z\"/>\n",
              "  </svg>\n",
              "      </button>\n",
              "      \n",
              "  <style>\n",
              "    .colab-df-container {\n",
              "      display:flex;\n",
              "      flex-wrap:wrap;\n",
              "      gap: 12px;\n",
              "    }\n",
              "\n",
              "    .colab-df-convert {\n",
              "      background-color: #E8F0FE;\n",
              "      border: none;\n",
              "      border-radius: 50%;\n",
              "      cursor: pointer;\n",
              "      display: none;\n",
              "      fill: #1967D2;\n",
              "      height: 32px;\n",
              "      padding: 0 0 0 0;\n",
              "      width: 32px;\n",
              "    }\n",
              "\n",
              "    .colab-df-convert:hover {\n",
              "      background-color: #E2EBFA;\n",
              "      box-shadow: 0px 1px 2px rgba(60, 64, 67, 0.3), 0px 1px 3px 1px rgba(60, 64, 67, 0.15);\n",
              "      fill: #174EA6;\n",
              "    }\n",
              "\n",
              "    [theme=dark] .colab-df-convert {\n",
              "      background-color: #3B4455;\n",
              "      fill: #D2E3FC;\n",
              "    }\n",
              "\n",
              "    [theme=dark] .colab-df-convert:hover {\n",
              "      background-color: #434B5C;\n",
              "      box-shadow: 0px 1px 3px 1px rgba(0, 0, 0, 0.15);\n",
              "      filter: drop-shadow(0px 1px 2px rgba(0, 0, 0, 0.3));\n",
              "      fill: #FFFFFF;\n",
              "    }\n",
              "  </style>\n",
              "\n",
              "      <script>\n",
              "        const buttonEl =\n",
              "          document.querySelector('#df-f35404c1-2fa1-4f1f-97f6-e5f37f43dd1c button.colab-df-convert');\n",
              "        buttonEl.style.display =\n",
              "          google.colab.kernel.accessAllowed ? 'block' : 'none';\n",
              "\n",
              "        async function convertToInteractive(key) {\n",
              "          const element = document.querySelector('#df-f35404c1-2fa1-4f1f-97f6-e5f37f43dd1c');\n",
              "          const dataTable =\n",
              "            await google.colab.kernel.invokeFunction('convertToInteractive',\n",
              "                                                     [key], {});\n",
              "          if (!dataTable) return;\n",
              "\n",
              "          const docLinkHtml = 'Like what you see? Visit the ' +\n",
              "            '<a target=\"_blank\" href=https://colab.research.google.com/notebooks/data_table.ipynb>data table notebook</a>'\n",
              "            + ' to learn more about interactive tables.';\n",
              "          element.innerHTML = '';\n",
              "          dataTable['output_type'] = 'display_data';\n",
              "          await google.colab.output.renderOutput(dataTable, element);\n",
              "          const docLink = document.createElement('div');\n",
              "          docLink.innerHTML = docLinkHtml;\n",
              "          element.appendChild(docLink);\n",
              "        }\n",
              "      </script>\n",
              "    </div>\n",
              "  </div>\n",
              "  "
            ]
          },
          "metadata": {},
          "execution_count": 35
        }
      ]
    },
    {
      "cell_type": "markdown",
      "source": [
        "##Data Preprocessing"
      ],
      "metadata": {
        "id": "o5_5u4Qcff9U"
      }
    },
    {
      "cell_type": "code",
      "source": [
        "#Dropping ID column which is unnecessary\n",
        "df = df.drop('ID',axis=1)"
      ],
      "metadata": {
        "id": "pffN-OGQexnX"
      },
      "execution_count": null,
      "outputs": []
    },
    {
      "cell_type": "code",
      "source": [
        "#Converting categorical datas to numerical\n",
        "df['Smoking status'] = df['Smoking status'].map({'Yes': 1, 'No': 0})\n",
        "\n",
        "#Gender\n",
        "df['Gender'] =df['Gender'].map({'Male':1,'Female':0})"
      ],
      "metadata": {
        "id": "xAfmQ13SfBeV"
      },
      "execution_count": null,
      "outputs": []
    },
    {
      "cell_type": "code",
      "source": [
        "#Converting bedtime to Epoch\n",
        "\n",
        "df['Bedtime'] = pd.to_datetime(df['Bedtime'], format='%Y-%m-%d %H:%M:%S')\n",
        "df['Bedtime'] = df['Bedtime'].apply(lambda x: int(x.timestamp()))\n",
        "df['Wakeup time'] = pd.to_datetime(df['Wakeup time'], format='%Y-%m-%d %H:%M:%S')\n",
        "df['Wakeup time'] = df['Wakeup time'].apply(lambda x: int(x.timestamp()))"
      ],
      "metadata": {
        "id": "SLoiF2aVfyP9"
      },
      "execution_count": null,
      "outputs": []
    },
    {
      "cell_type": "code",
      "source": [
        "df.head()"
      ],
      "metadata": {
        "colab": {
          "base_uri": "https://localhost:8080/",
          "height": 268
        },
        "id": "NOixvRbLf4ec",
        "outputId": "9c45cc59-7dc4-4691-851e-97d6a6ab7397"
      },
      "execution_count": null,
      "outputs": [
        {
          "output_type": "execute_result",
          "data": {
            "text/plain": [
              "   Age  Gender     Bedtime  Wakeup time  Sleep duration  Sleep efficiency  \\\n",
              "0   65       0  1614992400   1615014000             6.0              0.88   \n",
              "1   69       1  1638669600   1638694800             7.0              0.66   \n",
              "2   40       0  1621978200   1621920600             8.0              0.89   \n",
              "3   40       0  1635906600   1635928200             6.0              0.51   \n",
              "4   57       1  1615597200   1615626000             8.0              0.76   \n",
              "\n",
              "   REM sleep percentage  Deep sleep percentage  Light sleep percentage  \\\n",
              "0                    18                     70                      10   \n",
              "1                    24                     28                      53   \n",
              "2                    20                     70                      10   \n",
              "3                    28                     25                      52   \n",
              "4                    27                     55                      18   \n",
              "\n",
              "   Awakenings  Caffeine consumption  Alcohol consumption  Smoking status  \\\n",
              "0         0.0                   0.0                  0.0               1   \n",
              "1         3.0                   0.0                  3.0               1   \n",
              "2         1.0                   0.0                  0.0               0   \n",
              "3         3.0                  50.0                  5.0               1   \n",
              "4         3.0                   0.0                  3.0               0   \n",
              "\n",
              "   Exercise frequency  \n",
              "0                 3.0  \n",
              "1                 3.0  \n",
              "2                 3.0  \n",
              "3                 1.0  \n",
              "4                 3.0  "
            ],
            "text/html": [
              "\n",
              "  <div id=\"df-e6743831-3a87-434e-b425-2048b83e37ad\">\n",
              "    <div class=\"colab-df-container\">\n",
              "      <div>\n",
              "<style scoped>\n",
              "    .dataframe tbody tr th:only-of-type {\n",
              "        vertical-align: middle;\n",
              "    }\n",
              "\n",
              "    .dataframe tbody tr th {\n",
              "        vertical-align: top;\n",
              "    }\n",
              "\n",
              "    .dataframe thead th {\n",
              "        text-align: right;\n",
              "    }\n",
              "</style>\n",
              "<table border=\"1\" class=\"dataframe\">\n",
              "  <thead>\n",
              "    <tr style=\"text-align: right;\">\n",
              "      <th></th>\n",
              "      <th>Age</th>\n",
              "      <th>Gender</th>\n",
              "      <th>Bedtime</th>\n",
              "      <th>Wakeup time</th>\n",
              "      <th>Sleep duration</th>\n",
              "      <th>Sleep efficiency</th>\n",
              "      <th>REM sleep percentage</th>\n",
              "      <th>Deep sleep percentage</th>\n",
              "      <th>Light sleep percentage</th>\n",
              "      <th>Awakenings</th>\n",
              "      <th>Caffeine consumption</th>\n",
              "      <th>Alcohol consumption</th>\n",
              "      <th>Smoking status</th>\n",
              "      <th>Exercise frequency</th>\n",
              "    </tr>\n",
              "  </thead>\n",
              "  <tbody>\n",
              "    <tr>\n",
              "      <th>0</th>\n",
              "      <td>65</td>\n",
              "      <td>0</td>\n",
              "      <td>1614992400</td>\n",
              "      <td>1615014000</td>\n",
              "      <td>6.0</td>\n",
              "      <td>0.88</td>\n",
              "      <td>18</td>\n",
              "      <td>70</td>\n",
              "      <td>10</td>\n",
              "      <td>0.0</td>\n",
              "      <td>0.0</td>\n",
              "      <td>0.0</td>\n",
              "      <td>1</td>\n",
              "      <td>3.0</td>\n",
              "    </tr>\n",
              "    <tr>\n",
              "      <th>1</th>\n",
              "      <td>69</td>\n",
              "      <td>1</td>\n",
              "      <td>1638669600</td>\n",
              "      <td>1638694800</td>\n",
              "      <td>7.0</td>\n",
              "      <td>0.66</td>\n",
              "      <td>24</td>\n",
              "      <td>28</td>\n",
              "      <td>53</td>\n",
              "      <td>3.0</td>\n",
              "      <td>0.0</td>\n",
              "      <td>3.0</td>\n",
              "      <td>1</td>\n",
              "      <td>3.0</td>\n",
              "    </tr>\n",
              "    <tr>\n",
              "      <th>2</th>\n",
              "      <td>40</td>\n",
              "      <td>0</td>\n",
              "      <td>1621978200</td>\n",
              "      <td>1621920600</td>\n",
              "      <td>8.0</td>\n",
              "      <td>0.89</td>\n",
              "      <td>20</td>\n",
              "      <td>70</td>\n",
              "      <td>10</td>\n",
              "      <td>1.0</td>\n",
              "      <td>0.0</td>\n",
              "      <td>0.0</td>\n",
              "      <td>0</td>\n",
              "      <td>3.0</td>\n",
              "    </tr>\n",
              "    <tr>\n",
              "      <th>3</th>\n",
              "      <td>40</td>\n",
              "      <td>0</td>\n",
              "      <td>1635906600</td>\n",
              "      <td>1635928200</td>\n",
              "      <td>6.0</td>\n",
              "      <td>0.51</td>\n",
              "      <td>28</td>\n",
              "      <td>25</td>\n",
              "      <td>52</td>\n",
              "      <td>3.0</td>\n",
              "      <td>50.0</td>\n",
              "      <td>5.0</td>\n",
              "      <td>1</td>\n",
              "      <td>1.0</td>\n",
              "    </tr>\n",
              "    <tr>\n",
              "      <th>4</th>\n",
              "      <td>57</td>\n",
              "      <td>1</td>\n",
              "      <td>1615597200</td>\n",
              "      <td>1615626000</td>\n",
              "      <td>8.0</td>\n",
              "      <td>0.76</td>\n",
              "      <td>27</td>\n",
              "      <td>55</td>\n",
              "      <td>18</td>\n",
              "      <td>3.0</td>\n",
              "      <td>0.0</td>\n",
              "      <td>3.0</td>\n",
              "      <td>0</td>\n",
              "      <td>3.0</td>\n",
              "    </tr>\n",
              "  </tbody>\n",
              "</table>\n",
              "</div>\n",
              "      <button class=\"colab-df-convert\" onclick=\"convertToInteractive('df-e6743831-3a87-434e-b425-2048b83e37ad')\"\n",
              "              title=\"Convert this dataframe to an interactive table.\"\n",
              "              style=\"display:none;\">\n",
              "        \n",
              "  <svg xmlns=\"http://www.w3.org/2000/svg\" height=\"24px\"viewBox=\"0 0 24 24\"\n",
              "       width=\"24px\">\n",
              "    <path d=\"M0 0h24v24H0V0z\" fill=\"none\"/>\n",
              "    <path d=\"M18.56 5.44l.94 2.06.94-2.06 2.06-.94-2.06-.94-.94-2.06-.94 2.06-2.06.94zm-11 1L8.5 8.5l.94-2.06 2.06-.94-2.06-.94L8.5 2.5l-.94 2.06-2.06.94zm10 10l.94 2.06.94-2.06 2.06-.94-2.06-.94-.94-2.06-.94 2.06-2.06.94z\"/><path d=\"M17.41 7.96l-1.37-1.37c-.4-.4-.92-.59-1.43-.59-.52 0-1.04.2-1.43.59L10.3 9.45l-7.72 7.72c-.78.78-.78 2.05 0 2.83L4 21.41c.39.39.9.59 1.41.59.51 0 1.02-.2 1.41-.59l7.78-7.78 2.81-2.81c.8-.78.8-2.07 0-2.86zM5.41 20L4 18.59l7.72-7.72 1.47 1.35L5.41 20z\"/>\n",
              "  </svg>\n",
              "      </button>\n",
              "      \n",
              "  <style>\n",
              "    .colab-df-container {\n",
              "      display:flex;\n",
              "      flex-wrap:wrap;\n",
              "      gap: 12px;\n",
              "    }\n",
              "\n",
              "    .colab-df-convert {\n",
              "      background-color: #E8F0FE;\n",
              "      border: none;\n",
              "      border-radius: 50%;\n",
              "      cursor: pointer;\n",
              "      display: none;\n",
              "      fill: #1967D2;\n",
              "      height: 32px;\n",
              "      padding: 0 0 0 0;\n",
              "      width: 32px;\n",
              "    }\n",
              "\n",
              "    .colab-df-convert:hover {\n",
              "      background-color: #E2EBFA;\n",
              "      box-shadow: 0px 1px 2px rgba(60, 64, 67, 0.3), 0px 1px 3px 1px rgba(60, 64, 67, 0.15);\n",
              "      fill: #174EA6;\n",
              "    }\n",
              "\n",
              "    [theme=dark] .colab-df-convert {\n",
              "      background-color: #3B4455;\n",
              "      fill: #D2E3FC;\n",
              "    }\n",
              "\n",
              "    [theme=dark] .colab-df-convert:hover {\n",
              "      background-color: #434B5C;\n",
              "      box-shadow: 0px 1px 3px 1px rgba(0, 0, 0, 0.15);\n",
              "      filter: drop-shadow(0px 1px 2px rgba(0, 0, 0, 0.3));\n",
              "      fill: #FFFFFF;\n",
              "    }\n",
              "  </style>\n",
              "\n",
              "      <script>\n",
              "        const buttonEl =\n",
              "          document.querySelector('#df-e6743831-3a87-434e-b425-2048b83e37ad button.colab-df-convert');\n",
              "        buttonEl.style.display =\n",
              "          google.colab.kernel.accessAllowed ? 'block' : 'none';\n",
              "\n",
              "        async function convertToInteractive(key) {\n",
              "          const element = document.querySelector('#df-e6743831-3a87-434e-b425-2048b83e37ad');\n",
              "          const dataTable =\n",
              "            await google.colab.kernel.invokeFunction('convertToInteractive',\n",
              "                                                     [key], {});\n",
              "          if (!dataTable) return;\n",
              "\n",
              "          const docLinkHtml = 'Like what you see? Visit the ' +\n",
              "            '<a target=\"_blank\" href=https://colab.research.google.com/notebooks/data_table.ipynb>data table notebook</a>'\n",
              "            + ' to learn more about interactive tables.';\n",
              "          element.innerHTML = '';\n",
              "          dataTable['output_type'] = 'display_data';\n",
              "          await google.colab.output.renderOutput(dataTable, element);\n",
              "          const docLink = document.createElement('div');\n",
              "          docLink.innerHTML = docLinkHtml;\n",
              "          element.appendChild(docLink);\n",
              "        }\n",
              "      </script>\n",
              "    </div>\n",
              "  </div>\n",
              "  "
            ]
          },
          "metadata": {},
          "execution_count": 39
        }
      ]
    },
    {
      "cell_type": "code",
      "source": [
        "#Finding Null\n",
        "\n",
        "print(df.isnull().sum())"
      ],
      "metadata": {
        "colab": {
          "base_uri": "https://localhost:8080/"
        },
        "id": "eZF4GYKpgHv1",
        "outputId": "603ebb6b-4ff3-4175-91b1-e40a59f7128d"
      },
      "execution_count": null,
      "outputs": [
        {
          "output_type": "stream",
          "name": "stdout",
          "text": [
            "Age                        0\n",
            "Gender                     0\n",
            "Bedtime                    0\n",
            "Wakeup time                0\n",
            "Sleep duration             0\n",
            "Sleep efficiency           0\n",
            "REM sleep percentage       0\n",
            "Deep sleep percentage      0\n",
            "Light sleep percentage     0\n",
            "Awakenings                20\n",
            "Caffeine consumption      25\n",
            "Alcohol consumption       16\n",
            "Smoking status             0\n",
            "Exercise frequency         6\n",
            "dtype: int64\n"
          ]
        }
      ]
    },
    {
      "cell_type": "code",
      "source": [
        "# Imputing null values\n",
        "\n",
        "df['Awakenings'].fillna(df['Awakenings'].min(), inplace=True)\n",
        "df['Caffeine consumption'].fillna(df['Caffeine consumption'].mean(), inplace=True)\n",
        "df['Alcohol consumption'].fillna(df['Alcohol consumption'].mean(), inplace=True)\n",
        "df['Exercise frequency'].fillna(df['Exercise frequency'].mean(), inplace=True)"
      ],
      "metadata": {
        "id": "Zfzaw8gyhuhc"
      },
      "execution_count": null,
      "outputs": []
    },
    {
      "cell_type": "code",
      "source": [
        "#checking duplicates\n",
        "df.duplicated().sum()"
      ],
      "metadata": {
        "colab": {
          "base_uri": "https://localhost:8080/"
        },
        "id": "tUDOkU-GFXke",
        "outputId": "65e74665-eff0-4ccc-f975-001c0a1f3781"
      },
      "execution_count": null,
      "outputs": [
        {
          "output_type": "execute_result",
          "data": {
            "text/plain": [
              "0"
            ]
          },
          "metadata": {},
          "execution_count": 42
        }
      ]
    },
    {
      "cell_type": "markdown",
      "source": [
        "###Visualizing Data"
      ],
      "metadata": {
        "id": "ywgCGpD9kA3k"
      }
    },
    {
      "cell_type": "code",
      "source": [
        "#Splitting Feature and Target variables first\n",
        "\n",
        "X = df.drop('Sleep efficiency',axis=1)\n",
        "y = df['Sleep efficiency']"
      ],
      "metadata": {
        "id": "P6U6IcsMiboz"
      },
      "execution_count": null,
      "outputs": []
    },
    {
      "cell_type": "code",
      "source": [
        "#Visualizing in histogram\n",
        "\n",
        "X.hist(figsize=(10,10))\n",
        "plt.show()"
      ],
      "metadata": {
        "colab": {
          "base_uri": "https://localhost:8080/",
          "height": 607
        },
        "id": "P13LNo57j9gz",
        "outputId": "1434819c-455f-421e-981c-5f407fee2181"
      },
      "execution_count": null,
      "outputs": [
        {
          "output_type": "display_data",
          "data": {
            "text/plain": [
              "<Figure size 720x720 with 16 Axes>"
            ],
            "image/png": "[encoded data removed]"
          },
          "metadata": {
            "needs_background": "light"
          }
        }
      ]
    },
    {
      "cell_type": "markdown",
      "source": [
        "###Removing Outliers"
      ],
      "metadata": {
        "id": "HcmG_CQ1JVfv"
      }
    },
    {
      "cell_type": "code",
      "source": [
        "# Calculate the IQR for each column in the dataframe\n",
        "Q1 = df.quantile(0.25)\n",
        "\n",
        "Q3 = df.quantile(0.75)\n",
        "\n",
        "IQR = Q3 - Q1\n",
        "\n",
        "# Print the shape of the dataframe before removing the outliers\n",
        "print(\"The shape of the dataframe before removing the outliers is \" + str(df.shape))\n",
        "\n",
        "# Remove the outliers from the dataframe\n",
        "df_1 = df[~((df < (Q1 - 1.5 * IQR)) |(df > (Q3 + 1.5 * IQR))).any(axis=1)]\n",
        "\n",
        "# Print the shape of the dataframe after removing the outliers\n",
        "print(\"The shape of the dataframe after removing the outliers is \" + str(df_1.shape))"
      ],
      "metadata": {
        "colab": {
          "base_uri": "https://localhost:8080/"
        },
        "id": "UkNnT2trJGgF",
        "outputId": "f03a7afe-062a-4951-b0d3-78c98ed38de2"
      },
      "execution_count": null,
      "outputs": [
        {
          "output_type": "stream",
          "name": "stdout",
          "text": [
            "The shape of the dataframe before removing the outliers is (452, 14)\n",
            "The shape of the dataframe after removing the outliers is (354, 14)\n"
          ]
        }
      ]
    },
    {
      "cell_type": "markdown",
      "source": [
        "### Finding Correaltions"
      ],
      "metadata": {
        "id": "Ax4Hpqto1S9R"
      }
    },
    {
      "cell_type": "code",
      "source": [
        "corrmat = df_1.corr()\n",
        "\n",
        "plt.figure(figsize = (15,10))\n",
        "sns.heatmap(corrmat, annot = True,cmap='coolwarm')"
      ],
      "metadata": {
        "colab": {
          "base_uri": "https://localhost:8080/",
          "height": 718
        },
        "id": "fwC5dsdVoJ3y",
        "outputId": "349d13c7-48c8-43ca-d5f3-2e432daed1de"
      },
      "execution_count": null,
      "outputs": [
        {
          "output_type": "execute_result",
          "data": {
            "text/plain": [
              "<Axes: >"
            ]
          },
          "metadata": {},
          "execution_count": 46
        },
        {
          "output_type": "display_data",
          "data": {
            "text/plain": [
              "<Figure size 1080x720 with 2 Axes>"
            ],
            "image/png": "[encoded data removed]"
          },
          "metadata": {
            "needs_background": "light"
          }
        }
      ]
    },
    {
      "cell_type": "code",
      "source": [
        "#as deep sleep and light sleep has high negative correlation light sleep will be dropped\n",
        "\n",
        "df_1 = df_1.drop('Light sleep percentage',axis=1)"
      ],
      "metadata": {
        "id": "izu3rx9Aefib"
      },
      "execution_count": null,
      "outputs": []
    },
    {
      "cell_type": "code",
      "source": [
        "#dropping columns which has below 0.25 or upper than -0.25 correlation with sleep efficiency\n",
        "\n",
        "df_1 = df_1.drop(['Smoking status','Caffeine consumption','Age','Gender','Bedtime','Wakeup time','Sleep duration','Exercise frequency'],axis=1)"
      ],
      "metadata": {
        "id": "SUQ-1MsWgW2r"
      },
      "execution_count": null,
      "outputs": []
    },
    {
      "cell_type": "code",
      "source": [
        "df_1.head()"
      ],
      "metadata": {
        "colab": {
          "base_uri": "https://localhost:8080/",
          "height": 206
        },
        "id": "XExwAv9fh1vz",
        "outputId": "ce0e1e9e-d62c-4843-b8df-2acb37ef6134"
      },
      "execution_count": null,
      "outputs": [
        {
          "output_type": "execute_result",
          "data": {
            "text/plain": [
              "   Sleep efficiency  REM sleep percentage  Deep sleep percentage  Awakenings  \\\n",
              "0              0.88                    18                     70         0.0   \n",
              "2              0.89                    20                     70         1.0   \n",
              "4              0.76                    27                     55         3.0   \n",
              "5              0.90                    28                     60         0.0   \n",
              "8              0.79                    28                     60         3.0   \n",
              "\n",
              "   Alcohol consumption  \n",
              "0                  0.0  \n",
              "2                  0.0  \n",
              "4                  3.0  \n",
              "5                  0.0  \n",
              "8                  0.0  "
            ],
            "text/html": [
              "\n",
              "  <div id=\"df-75575f95-c359-4270-aef8-9a614ac55a76\">\n",
              "    <div class=\"colab-df-container\">\n",
              "      <div>\n",
              "<style scoped>\n",
              "    .dataframe tbody tr th:only-of-type {\n",
              "        vertical-align: middle;\n",
              "    }\n",
              "\n",
              "    .dataframe tbody tr th {\n",
              "        vertical-align: top;\n",
              "    }\n",
              "\n",
              "    .dataframe thead th {\n",
              "        text-align: right;\n",
              "    }\n",
              "</style>\n",
              "<table border=\"1\" class=\"dataframe\">\n",
              "  <thead>\n",
              "    <tr style=\"text-align: right;\">\n",
              "      <th></th>\n",
              "      <th>Sleep efficiency</th>\n",
              "      <th>REM sleep percentage</th>\n",
              "      <th>Deep sleep percentage</th>\n",
              "      <th>Awakenings</th>\n",
              "      <th>Alcohol consumption</th>\n",
              "    </tr>\n",
              "  </thead>\n",
              "  <tbody>\n",
              "    <tr>\n",
              "      <th>0</th>\n",
              "      <td>0.88</td>\n",
              "      <td>18</td>\n",
              "      <td>70</td>\n",
              "      <td>0.0</td>\n",
              "      <td>0.0</td>\n",
              "    </tr>\n",
              "    <tr>\n",
              "      <th>2</th>\n",
              "      <td>0.89</td>\n",
              "      <td>20</td>\n",
              "      <td>70</td>\n",
              "      <td>1.0</td>\n",
              "      <td>0.0</td>\n",
              "    </tr>\n",
              "    <tr>\n",
              "      <th>4</th>\n",
              "      <td>0.76</td>\n",
              "      <td>27</td>\n",
              "      <td>55</td>\n",
              "      <td>3.0</td>\n",
              "      <td>3.0</td>\n",
              "    </tr>\n",
              "    <tr>\n",
              "      <th>5</th>\n",
              "      <td>0.90</td>\n",
              "      <td>28</td>\n",
              "      <td>60</td>\n",
              "      <td>0.0</td>\n",
              "      <td>0.0</td>\n",
              "    </tr>\n",
              "    <tr>\n",
              "      <th>8</th>\n",
              "      <td>0.79</td>\n",
              "      <td>28</td>\n",
              "      <td>60</td>\n",
              "      <td>3.0</td>\n",
              "      <td>0.0</td>\n",
              "    </tr>\n",
              "  </tbody>\n",
              "</table>\n",
              "</div>\n",
              "      <button class=\"colab-df-convert\" onclick=\"convertToInteractive('df-75575f95-c359-4270-aef8-9a614ac55a76')\"\n",
              "              title=\"Convert this dataframe to an interactive table.\"\n",
              "              style=\"display:none;\">\n",
              "        \n",
              "  <svg xmlns=\"http://www.w3.org/2000/svg\" height=\"24px\"viewBox=\"0 0 24 24\"\n",
              "       width=\"24px\">\n",
              "    <path d=\"M0 0h24v24H0V0z\" fill=\"none\"/>\n",
              "    <path d=\"M18.56 5.44l.94 2.06.94-2.06 2.06-.94-2.06-.94-.94-2.06-.94 2.06-2.06.94zm-11 1L8.5 8.5l.94-2.06 2.06-.94-2.06-.94L8.5 2.5l-.94 2.06-2.06.94zm10 10l.94 2.06.94-2.06 2.06-.94-2.06-.94-.94-2.06-.94 2.06-2.06.94z\"/><path d=\"M17.41 7.96l-1.37-1.37c-.4-.4-.92-.59-1.43-.59-.52 0-1.04.2-1.43.59L10.3 9.45l-7.72 7.72c-.78.78-.78 2.05 0 2.83L4 21.41c.39.39.9.59 1.41.59.51 0 1.02-.2 1.41-.59l7.78-7.78 2.81-2.81c.8-.78.8-2.07 0-2.86zM5.41 20L4 18.59l7.72-7.72 1.47 1.35L5.41 20z\"/>\n",
              "  </svg>\n",
              "      </button>\n",
              "      \n",
              "  <style>\n",
              "    .colab-df-container {\n",
              "      display:flex;\n",
              "      flex-wrap:wrap;\n",
              "      gap: 12px;\n",
              "    }\n",
              "\n",
              "    .colab-df-convert {\n",
              "      background-color: #E8F0FE;\n",
              "      border: none;\n",
              "      border-radius: 50%;\n",
              "      cursor: pointer;\n",
              "      display: none;\n",
              "      fill: #1967D2;\n",
              "      height: 32px;\n",
              "      padding: 0 0 0 0;\n",
              "      width: 32px;\n",
              "    }\n",
              "\n",
              "    .colab-df-convert:hover {\n",
              "      background-color: #E2EBFA;\n",
              "      box-shadow: 0px 1px 2px rgba(60, 64, 67, 0.3), 0px 1px 3px 1px rgba(60, 64, 67, 0.15);\n",
              "      fill: #174EA6;\n",
              "    }\n",
              "\n",
              "    [theme=dark] .colab-df-convert {\n",
              "      background-color: #3B4455;\n",
              "      fill: #D2E3FC;\n",
              "    }\n",
              "\n",
              "    [theme=dark] .colab-df-convert:hover {\n",
              "      background-color: #434B5C;\n",
              "      box-shadow: 0px 1px 3px 1px rgba(0, 0, 0, 0.15);\n",
              "      filter: drop-shadow(0px 1px 2px rgba(0, 0, 0, 0.3));\n",
              "      fill: #FFFFFF;\n",
              "    }\n",
              "  </style>\n",
              "\n",
              "      <script>\n",
              "        const buttonEl =\n",
              "          document.querySelector('#df-75575f95-c359-4270-aef8-9a614ac55a76 button.colab-df-convert');\n",
              "        buttonEl.style.display =\n",
              "          google.colab.kernel.accessAllowed ? 'block' : 'none';\n",
              "\n",
              "        async function convertToInteractive(key) {\n",
              "          const element = document.querySelector('#df-75575f95-c359-4270-aef8-9a614ac55a76');\n",
              "          const dataTable =\n",
              "            await google.colab.kernel.invokeFunction('convertToInteractive',\n",
              "                                                     [key], {});\n",
              "          if (!dataTable) return;\n",
              "\n",
              "          const docLinkHtml = 'Like what you see? Visit the ' +\n",
              "            '<a target=\"_blank\" href=https://colab.research.google.com/notebooks/data_table.ipynb>data table notebook</a>'\n",
              "            + ' to learn more about interactive tables.';\n",
              "          element.innerHTML = '';\n",
              "          dataTable['output_type'] = 'display_data';\n",
              "          await google.colab.output.renderOutput(dataTable, element);\n",
              "          const docLink = document.createElement('div');\n",
              "          docLink.innerHTML = docLinkHtml;\n",
              "          element.appendChild(docLink);\n",
              "        }\n",
              "      </script>\n",
              "    </div>\n",
              "  </div>\n",
              "  "
            ]
          },
          "metadata": {},
          "execution_count": 49
        }
      ]
    },
    {
      "cell_type": "markdown",
      "source": [
        "##Scaling Features"
      ],
      "metadata": {
        "id": "EGT4-Q16jd7c"
      }
    },
    {
      "cell_type": "code",
      "source": [
        "# Initialize the class\n",
        "scaler_linear = StandardScaler()\n",
        "\n",
        "# Compute the mean and standard deviation of the training set then transform it\n",
        "X = scaler_linear.fit_transform(X)"
      ],
      "metadata": {
        "id": "OAj8Yvsji4Ci"
      },
      "execution_count": null,
      "outputs": []
    },
    {
      "cell_type": "markdown",
      "source": [
        "##Model Building"
      ],
      "metadata": {
        "id": "H7nBgTg5kEIk"
      }
    },
    {
      "cell_type": "code",
      "source": [
        "#Training the model\n",
        "\n",
        "from sklearn.model_selection import train_test_split\n",
        "\n",
        "\n",
        "\n",
        "X_train, X_test, y_train, y_test = train_test_split(X, y, test_size= 0.25, random_state=50)"
      ],
      "metadata": {
        "id": "Pck2Q5qKjxeC"
      },
      "execution_count": null,
      "outputs": []
    },
    {
      "cell_type": "code",
      "source": [
        "# Initialize the class\n",
        "linear_model = LinearRegression()\n",
        "\n",
        "# Train the model\n",
        "linear_model.fit(X_train, y_train)"
      ],
      "metadata": {
        "colab": {
          "base_uri": "https://localhost:8080/",
          "height": 75
        },
        "id": "QqEggqO5mZuS",
        "outputId": "09e06e50-7507-47f2-be37-464fed801d3b"
      },
      "execution_count": null,
      "outputs": [
        {
          "output_type": "execute_result",
          "data": {
            "text/plain": [
              "LinearRegression()"
            ],
            "text/html": [
              "<style>#sk-container-id-2 {color: black;background-color: white;}#sk-container-id-2 pre{padding: 0;}#sk-container-id-2 div.sk-toggleable {background-color: white;}#sk-container-id-2 label.sk-toggleable__label {cursor: pointer;display: block;width: 100%;margin-bottom: 0;padding: 0.3em;box-sizing: border-box;text-align: center;}#sk-container-id-2 label.sk-toggleable__label-arrow:before {content: \"▸\";float: left;margin-right: 0.25em;color: #696969;}#sk-container-id-2 label.sk-toggleable__label-arrow:hover:before {color: black;}#sk-container-id-2 div.sk-estimator:hover label.sk-toggleable__label-arrow:before {color: black;}#sk-container-id-2 div.sk-toggleable__content {max-height: 0;max-width: 0;overflow: hidden;text-align: left;background-color: #f0f8ff;}#sk-container-id-2 div.sk-toggleable__content pre {margin: 0.2em;color: black;border-radius: 0.25em;background-color: #f0f8ff;}#sk-container-id-2 input.sk-toggleable__control:checked~div.sk-toggleable__content {max-height: 200px;max-width: 100%;overflow: auto;}#sk-container-id-2 input.sk-toggleable__control:checked~label.sk-toggleable__label-arrow:before {content: \"▾\";}#sk-container-id-2 div.sk-estimator input.sk-toggleable__control:checked~label.sk-toggleable__label {background-color: #d4ebff;}#sk-container-id-2 div.sk-label input.sk-toggleable__control:checked~label.sk-toggleable__label {background-color: #d4ebff;}#sk-container-id-2 input.sk-hidden--visually {border: 0;clip: rect(1px 1px 1px 1px);clip: rect(1px, 1px, 1px, 1px);height: 1px;margin: -1px;overflow: hidden;padding: 0;position: absolute;width: 1px;}#sk-container-id-2 div.sk-estimator {font-family: monospace;background-color: #f0f8ff;border: 1px dotted black;border-radius: 0.25em;box-sizing: border-box;margin-bottom: 0.5em;}#sk-container-id-2 div.sk-estimator:hover {background-color: #d4ebff;}#sk-container-id-2 div.sk-parallel-item::after {content: \"\";width: 100%;border-bottom: 1px solid gray;flex-grow: 1;}#sk-container-id-2 div.sk-label:hover label.sk-toggleable__label {background-color: #d4ebff;}#sk-container-id-2 div.sk-serial::before {content: \"\";position: absolute;border-left: 1px solid gray;box-sizing: border-box;top: 0;bottom: 0;left: 50%;z-index: 0;}#sk-container-id-2 div.sk-serial {display: flex;flex-direction: column;align-items: center;background-color: white;padding-right: 0.2em;padding-left: 0.2em;position: relative;}#sk-container-id-2 div.sk-item {position: relative;z-index: 1;}#sk-container-id-2 div.sk-parallel {display: flex;align-items: stretch;justify-content: center;background-color: white;position: relative;}#sk-container-id-2 div.sk-item::before, #sk-container-id-2 div.sk-parallel-item::before {content: \"\";position: absolute;border-left: 1px solid gray;box-sizing: border-box;top: 0;bottom: 0;left: 50%;z-index: -1;}#sk-container-id-2 div.sk-parallel-item {display: flex;flex-direction: column;z-index: 1;position: relative;background-color: white;}#sk-container-id-2 div.sk-parallel-item:first-child::after {align-self: flex-end;width: 50%;}#sk-container-id-2 div.sk-parallel-item:last-child::after {align-self: flex-start;width: 50%;}#sk-container-id-2 div.sk-parallel-item:only-child::after {width: 0;}#sk-container-id-2 div.sk-dashed-wrapped {border: 1px dashed gray;margin: 0 0.4em 0.5em 0.4em;box-sizing: border-box;padding-bottom: 0.4em;background-color: white;}#sk-container-id-2 div.sk-label label {font-family: monospace;font-weight: bold;display: inline-block;line-height: 1.2em;}#sk-container-id-2 div.sk-label-container {text-align: center;}#sk-container-id-2 div.sk-container {/* jupyter's `normalize.less` sets `[hidden] { display: none; }` but bootstrap.min.css set `[hidden] { display: none !important; }` so we also need the `!important` here to be able to override the default hidden behavior on the sphinx rendered scikit-learn.org. See: https://github.com/scikit-learn/scikit-learn/issues/21755 */display: inline-block !important;position: relative;}#sk-container-id-2 div.sk-text-repr-fallback {display: none;}</style><div id=\"sk-container-id-2\" class=\"sk-top-container\"><div class=\"sk-text-repr-fallback\"><pre>LinearRegression()</pre><b>In a Jupyter environment, please rerun this cell to show the HTML representation or trust the notebook. <br />On GitHub, the HTML representation is unable to render, please try loading this page with nbviewer.org.</b></div><div class=\"sk-container\" hidden><div class=\"sk-item\"><div class=\"sk-estimator sk-toggleable\"><input class=\"sk-toggleable__control sk-hidden--visually\" id=\"sk-estimator-id-2\" type=\"checkbox\" checked><label for=\"sk-estimator-id-2\" class=\"sk-toggleable__label sk-toggleable__label-arrow\">LinearRegression</label><div class=\"sk-toggleable__content\"><pre>LinearRegression()</pre></div></div></div></div></div>"
            ]
          },
          "metadata": {},
          "execution_count": 52
        }
      ]
    },
    {
      "cell_type": "code",
      "source": [
        "# Feed the scaled training set and get the predictions\n",
        "yhat = linear_model.predict(X_train)\n",
        "\n",
        "# Use scikit-learn's utility function and divide by 2\n",
        "train_mse = mean_squared_error(y_train, yhat) / 2\n",
        "train_r2 = r2_score(y_train,yhat)\n",
        "\n",
        "print(f\"training MSE : {train_mse}\")\n",
        "print(f\"training R2 :{train_r2}\")"
      ],
      "metadata": {
        "colab": {
          "base_uri": "https://localhost:8080/"
        },
        "id": "3MQZmU1am1Fp",
        "outputId": "82d5cfc7-bcba-4279-c25f-8457b6fd65b9"
      },
      "execution_count": null,
      "outputs": [
        {
          "output_type": "stream",
          "name": "stdout",
          "text": [
            "training MSE : 0.0016525033250737794\n",
            "training R2 :0.8190913165653905\n"
          ]
        }
      ]
    },
    {
      "cell_type": "code",
      "source": [
        "yhat_test = linear_model.predict(X_test)\n",
        "\n",
        "# Use scikit-learn's utility function and divide by 2\n",
        "test_mse = mean_squared_error(y_test, yhat_test) / 2\n",
        "test_r2 = r2_score(y_test,yhat_test)\n",
        "\n",
        "print(f\"Cross validation MSE: {test_mse}\")\n",
        "print(f\"Cross validation R2 :{test_r2}\")"
      ],
      "metadata": {
        "colab": {
          "base_uri": "https://localhost:8080/"
        },
        "id": "i3WLoqvLnCYZ",
        "outputId": "7cc6492f-dcce-42dc-b42e-e28db4fff606"
      },
      "execution_count": null,
      "outputs": [
        {
          "output_type": "stream",
          "name": "stdout",
          "text": [
            "Cross validation MSE: 0.0018126034369111241\n",
            "Cross validation R2 :0.8004532062582226\n"
          ]
        }
      ]
    },
    {
      "cell_type": "code",
      "source": [
        "#plotting experimental and predicted values for training data\n",
        "\n",
        "plt.figure(figsize=(8,8))\n",
        "plt.scatter(x= y_train,y = yhat, alpha = 0.3)\n",
        "plt.ylabel('Predicted efficiency')\n",
        "plt.xlabel('Experimental efficiency')\n",
        "\n",
        "\n",
        "plt.show()"
      ],
      "metadata": {
        "colab": {
          "base_uri": "https://localhost:8080/",
          "height": 497
        },
        "id": "Ggxw7MpLqcQK",
        "outputId": "54be5438-2217-41cd-dbca-bad54d473a8e"
      },
      "execution_count": null,
      "outputs": [
        {
          "output_type": "display_data",
          "data": {
            "text/plain": [
              "<Figure size 576x576 with 1 Axes>"
            ],
            "image/png": "[encoded data removed]"
          },
          "metadata": {
            "needs_background": "light"
          }
        }
      ]
    },
    {
      "cell_type": "code",
      "source": [
        "#plotting experimental and predicted values for testing data\n",
        "\n",
        "plt.figure(figsize=(8,8))\n",
        "plt.scatter(x= y_test,y = yhat_test, alpha = 0.3)\n",
        "plt.ylabel('Predicted efficiency')\n",
        "plt.xlabel('Experimental efficiency')\n",
        "\n",
        "\n",
        "plt.show()"
      ],
      "metadata": {
        "colab": {
          "base_uri": "https://localhost:8080/",
          "height": 497
        },
        "id": "J3G-3PQD-8WE",
        "outputId": "96c271e6-8e8e-4fff-b96e-4a7fcfa8076f"
      },
      "execution_count": null,
      "outputs": [
        {
          "output_type": "display_data",
          "data": {
            "text/plain": [
              "<Figure size 576x576 with 1 Axes>"
            ],
            "image/png": "[encoded data removed]"
          },
          "metadata": {
            "needs_background": "light"
          }
        }
      ]
    },
    {
      "cell_type": "code",
      "source": [
        "#Comparing scores in a dataframe\n",
        "\n",
        "Final_Output = pd.DataFrame(['Linear Regression', train_mse, train_r2, test_mse, test_r2,]).transpose()\n",
        "Final_Output.columns = ['Method', 'Training MSE', 'Training R2','Test MSE','Test R2']\n",
        "Final_Output"
      ],
      "metadata": {
        "colab": {
          "base_uri": "https://localhost:8080/",
          "height": 81
        },
        "id": "g_rwitu0AISp",
        "outputId": "8b0c76f6-bf29-44fc-9ba5-85e2d0e9bb75"
      },
      "execution_count": null,
      "outputs": [
        {
          "output_type": "execute_result",
          "data": {
            "text/plain": [
              "              Method Training MSE Training R2  Test MSE   Test R2\n",
              "0  Linear Regression     0.001653    0.819091  0.001813  0.800453"
            ],
            "text/html": [
              "\n",
              "  <div id=\"df-5b4ef5b1-e51b-40f6-a605-6dcb28a4309f\">\n",
              "    <div class=\"colab-df-container\">\n",
              "      <div>\n",
              "<style scoped>\n",
              "    .dataframe tbody tr th:only-of-type {\n",
              "        vertical-align: middle;\n",
              "    }\n",
              "\n",
              "    .dataframe tbody tr th {\n",
              "        vertical-align: top;\n",
              "    }\n",
              "\n",
              "    .dataframe thead th {\n",
              "        text-align: right;\n",
              "    }\n",
              "</style>\n",
              "<table border=\"1\" class=\"dataframe\">\n",
              "  <thead>\n",
              "    <tr style=\"text-align: right;\">\n",
              "      <th></th>\n",
              "      <th>Method</th>\n",
              "      <th>Training MSE</th>\n",
              "      <th>Training R2</th>\n",
              "      <th>Test MSE</th>\n",
              "      <th>Test R2</th>\n",
              "    </tr>\n",
              "  </thead>\n",
              "  <tbody>\n",
              "    <tr>\n",
              "      <th>0</th>\n",
              "      <td>Linear Regression</td>\n",
              "      <td>0.001653</td>\n",
              "      <td>0.819091</td>\n",
              "      <td>0.001813</td>\n",
              "      <td>0.800453</td>\n",
              "    </tr>\n",
              "  </tbody>\n",
              "</table>\n",
              "</div>\n",
              "      <button class=\"colab-df-convert\" onclick=\"convertToInteractive('df-5b4ef5b1-e51b-40f6-a605-6dcb28a4309f')\"\n",
              "              title=\"Convert this dataframe to an interactive table.\"\n",
              "              style=\"display:none;\">\n",
              "        \n",
              "  <svg xmlns=\"http://www.w3.org/2000/svg\" height=\"24px\"viewBox=\"0 0 24 24\"\n",
              "       width=\"24px\">\n",
              "    <path d=\"M0 0h24v24H0V0z\" fill=\"none\"/>\n",
              "    <path d=\"M18.56 5.44l.94 2.06.94-2.06 2.06-.94-2.06-.94-.94-2.06-.94 2.06-2.06.94zm-11 1L8.5 8.5l.94-2.06 2.06-.94-2.06-.94L8.5 2.5l-.94 2.06-2.06.94zm10 10l.94 2.06.94-2.06 2.06-.94-2.06-.94-.94-2.06-.94 2.06-2.06.94z\"/><path d=\"M17.41 7.96l-1.37-1.37c-.4-.4-.92-.59-1.43-.59-.52 0-1.04.2-1.43.59L10.3 9.45l-7.72 7.72c-.78.78-.78 2.05 0 2.83L4 21.41c.39.39.9.59 1.41.59.51 0 1.02-.2 1.41-.59l7.78-7.78 2.81-2.81c.8-.78.8-2.07 0-2.86zM5.41 20L4 18.59l7.72-7.72 1.47 1.35L5.41 20z\"/>\n",
              "  </svg>\n",
              "      </button>\n",
              "      \n",
              "  <style>\n",
              "    .colab-df-container {\n",
              "      display:flex;\n",
              "      flex-wrap:wrap;\n",
              "      gap: 12px;\n",
              "    }\n",
              "\n",
              "    .colab-df-convert {\n",
              "      background-color: #E8F0FE;\n",
              "      border: none;\n",
              "      border-radius: 50%;\n",
              "      cursor: pointer;\n",
              "      display: none;\n",
              "      fill: #1967D2;\n",
              "      height: 32px;\n",
              "      padding: 0 0 0 0;\n",
              "      width: 32px;\n",
              "    }\n",
              "\n",
              "    .colab-df-convert:hover {\n",
              "      background-color: #E2EBFA;\n",
              "      box-shadow: 0px 1px 2px rgba(60, 64, 67, 0.3), 0px 1px 3px 1px rgba(60, 64, 67, 0.15);\n",
              "      fill: #174EA6;\n",
              "    }\n",
              "\n",
              "    [theme=dark] .colab-df-convert {\n",
              "      background-color: #3B4455;\n",
              "      fill: #D2E3FC;\n",
              "    }\n",
              "\n",
              "    [theme=dark] .colab-df-convert:hover {\n",
              "      background-color: #434B5C;\n",
              "      box-shadow: 0px 1px 3px 1px rgba(0, 0, 0, 0.15);\n",
              "      filter: drop-shadow(0px 1px 2px rgba(0, 0, 0, 0.3));\n",
              "      fill: #FFFFFF;\n",
              "    }\n",
              "  </style>\n",
              "\n",
              "      <script>\n",
              "        const buttonEl =\n",
              "          document.querySelector('#df-5b4ef5b1-e51b-40f6-a605-6dcb28a4309f button.colab-df-convert');\n",
              "        buttonEl.style.display =\n",
              "          google.colab.kernel.accessAllowed ? 'block' : 'none';\n",
              "\n",
              "        async function convertToInteractive(key) {\n",
              "          const element = document.querySelector('#df-5b4ef5b1-e51b-40f6-a605-6dcb28a4309f');\n",
              "          const dataTable =\n",
              "            await google.colab.kernel.invokeFunction('convertToInteractive',\n",
              "                                                     [key], {});\n",
              "          if (!dataTable) return;\n",
              "\n",
              "          const docLinkHtml = 'Like what you see? Visit the ' +\n",
              "            '<a target=\"_blank\" href=https://colab.research.google.com/notebooks/data_table.ipynb>data table notebook</a>'\n",
              "            + ' to learn more about interactive tables.';\n",
              "          element.innerHTML = '';\n",
              "          dataTable['output_type'] = 'display_data';\n",
              "          await google.colab.output.renderOutput(dataTable, element);\n",
              "          const docLink = document.createElement('div');\n",
              "          docLink.innerHTML = docLinkHtml;\n",
              "          element.appendChild(docLink);\n",
              "        }\n",
              "      </script>\n",
              "    </div>\n",
              "  </div>\n",
              "  "
            ]
          },
          "metadata": {},
          "execution_count": 57
        }
      ]
    },
    {
      "cell_type": "markdown",
      "source": [
        "##Model Comparison"
      ],
      "metadata": {
        "id": "NwmmAAcc1yHI"
      }
    },
    {
      "cell_type": "code",
      "source": [
        "from sklearn.linear_model import Ridge\n",
        "from sklearn.linear_model import Lasso\n",
        "\n",
        "models = [LinearRegression(),Ridge(),Lasso()]\n",
        "\n",
        "def compare_models_train_test():\n",
        "  for model in models:\n",
        "    #training the model\n",
        "    model.fit(X_train,y_train)\n",
        "    #evaluating the model\n",
        "    test_data_prediction = model.predict(X_test)\n",
        "    accuracy = r2_score(y_test, test_data_prediction)\n",
        "    mse = mean_squared_error(y_test,test_data_prediction) / 2\n",
        "    \n",
        "    print('R^2 score of the model', model, '=', accuracy)\n",
        "    print('MSE score of the model', model, '=', mse)\n",
        "\n",
        "compare_models_train_test()"
      ],
      "metadata": {
        "colab": {
          "base_uri": "https://localhost:8080/"
        },
        "id": "lVs3jzlf11-K",
        "outputId": "6ff6aedc-21cc-44b1-bdb8-b60bd6f2a1d7"
      },
      "execution_count": null,
      "outputs": [
        {
          "output_type": "stream",
          "name": "stdout",
          "text": [
            "R^2 score of the model LinearRegression() = 0.8004532062582226\n",
            "MSE score of the model LinearRegression() = 0.0018126034369111241\n",
            "R^2 score of the model Ridge() = 0.8019930611318716\n",
            "MSE score of the model Ridge() = 0.0017986160097819646\n",
            "R^2 score of the model Lasso() = -0.0015005797988589809\n",
            "MSE score of the model Lasso() = 0.009097231576474272\n"
          ]
        }
      ]
    },
    {
      "cell_type": "markdown",
      "source": [
        "###Cross Validation Score"
      ],
      "metadata": {
        "id": "cXFXX8D7Q7x6"
      }
    },
    {
      "cell_type": "code",
      "source": [
        "from sklearn.model_selection import cross_val_score\n",
        "import warnings;warnings.simplefilter('ignore')"
      ],
      "metadata": {
        "id": "KQ50DZRvnlJX"
      },
      "execution_count": null,
      "outputs": []
    },
    {
      "cell_type": "markdown",
      "source": [
        "####Linear Regression"
      ],
      "metadata": {
        "id": "avymYJBSR-tB"
      }
    },
    {
      "cell_type": "code",
      "source": [
        "cv_score_lr = cross_val_score(LinearRegression(), X, y, cv=5)"
      ],
      "metadata": {
        "id": "zLnXlLSV_SbR"
      },
      "execution_count": null,
      "outputs": []
    },
    {
      "cell_type": "code",
      "source": [
        "print(cv_score_lr)\n",
        "print(f'The average cv score is {np.average(cv_score_lr)}')"
      ],
      "metadata": {
        "colab": {
          "base_uri": "https://localhost:8080/"
        },
        "id": "P1_nLQa3R1fo",
        "outputId": "96792586-3cae-4898-8f65-abe6c797bfee"
      },
      "execution_count": null,
      "outputs": [
        {
          "output_type": "stream",
          "name": "stdout",
          "text": [
            "[0.81303998 0.82433362 0.78158224 0.79165635 0.79940181]\n",
            "The average cv score is 0.8020027990283687\n"
          ]
        }
      ]
    },
    {
      "cell_type": "markdown",
      "source": [
        "####Ridge Regression"
      ],
      "metadata": {
        "id": "vmJuqisnSCFR"
      }
    },
    {
      "cell_type": "code",
      "source": [
        "lambdas = [0,0.01,0.02,0.05,0.06,0.07,0.08,0.09,0.1,0.11,0.12,0.13,0.14,0.15,0.16,0.5,10.0,11.0,12.0,13.0,14.0,15.0,16.0,17.0,18.0,19.0,20.0,21.0]\n",
        "avg_scores = {}\n",
        "avg_score = {}\n",
        "score = {}\n",
        "\n",
        "for i in lambdas:\n",
        "    cv_scores_rr = cross_val_score(Ridge(alpha = i),X, y, cv = 5)\n",
        "    score[i] = cv_scores_rr\n",
        "    avg_score[i] = np.average(cv_scores_rr)\n",
        "    avg_scores[str(lambdas)] = np.average(cv_scores_rr)\n",
        "\n",
        "print(score)\n",
        "print(avg_score)"
      ],
      "metadata": {
        "colab": {
          "base_uri": "https://localhost:8080/"
        },
        "id": "ce8md4M-q-8a",
        "outputId": "73d077e4-7bfc-4e51-dfb0-d4e69f358cfb"
      },
      "execution_count": null,
      "outputs": [
        {
          "output_type": "stream",
          "name": "stdout",
          "text": [
            "{0: array([0.81303998, 0.82433362, 0.78158224, 0.79165635, 0.79940181]), 0.01: array([0.8126048 , 0.82438351, 0.78188863, 0.79134196, 0.80228183]), 0.02: array([0.81255065, 0.8243696 , 0.78190141, 0.79129732, 0.80256413]), 0.05: array([0.81254474, 0.82435864, 0.781904  , 0.79125705, 0.80276983]), 0.06: array([0.81255375, 0.82435778, 0.78190333, 0.79125011, 0.80279736]), 0.07: array([0.81256446, 0.8243574 , 0.78190249, 0.79124421, 0.80281863]), 0.08: array([0.81257621, 0.82435733, 0.78190155, 0.79123897, 0.80283593]), 0.09: array([0.81258863, 0.82435747, 0.78190054, 0.79123419, 0.80285055]), 0.1: array([0.8126015 , 0.82435775, 0.78189949, 0.79122974, 0.80286325]), 0.11: array([0.81261468, 0.82435812, 0.78189841, 0.79122553, 0.80287456]), 0.12: array([0.81262806, 0.82435857, 0.78189731, 0.79122151, 0.80288479]), 0.13: array([0.81264158, 0.82435907, 0.78189619, 0.79121765, 0.8028942 ]), 0.14: array([0.81265519, 0.82435961, 0.78189506, 0.7912139 , 0.80290294]), 0.15: array([0.81266886, 0.82436017, 0.78189392, 0.79121025, 0.80291114]), 0.16: array([0.81268255, 0.82436075, 0.78189277, 0.79120669, 0.8029189 ]), 0.5: array([0.81311702, 0.82437648, 0.78185191, 0.79110526, 0.80309504]), 10.0: array([0.81677517, 0.8231727 , 0.78127885, 0.79005699, 0.80472418]), 11.0: array([0.8169607 , 0.82300755, 0.78124097, 0.78998458, 0.80484974]), 12.0: array([0.8171359 , 0.82284   , 0.78120219, 0.7899122 , 0.80497174]), 13.0: array([0.81730206, 0.82267024, 0.78116207, 0.78983941, 0.80509021]), 14.0: array([0.81746016, 0.82249841, 0.78112028, 0.78976588, 0.8052052 ]), 15.0: array([0.81761096, 0.82232461, 0.78107655, 0.78969135, 0.80531671]), 16.0: array([0.81775506, 0.82214892, 0.78103068, 0.78961562, 0.80542475]), 17.0: array([0.81789292, 0.82197141, 0.78098251, 0.78953854, 0.80552934]), 18.0: array([0.81802495, 0.82179213, 0.78093193, 0.78945998, 0.80563049]), 19.0: array([0.81815146, 0.82161113, 0.78087884, 0.78937987, 0.80572822]), 20.0: array([0.81827272, 0.82142846, 0.78082318, 0.78929811, 0.80582254]), 21.0: array([0.81838897, 0.82124414, 0.7807649 , 0.78921466, 0.80591349])}\n",
            "{0: 0.8020027990283817, 0.01: 0.8025001454889061, 0.02: 0.8025366214032257, 0.05: 0.8025668514934212, 0.06: 0.802572467215116, 0.07: 0.8025774381981885, 0.08: 0.8025819979251289, 0.09: 0.802586275140207, 0.1: 0.8025903466558667, 0.11: 0.8025942611692214, 0.12: 0.8025980510841995, 0.13: 0.8026017388354422, 0.14: 0.8026053404805129, 0.15: 0.8026088678437067, 0.16: 0.8026123298494886, 0.5: 0.8027091395460605, 10.0: 0.8032015789951448, 11.0: 0.8032087068787485, 12.0: 0.8032124055330249, 13.0: 0.8032128013764449, 14.0: 0.8032099872603199, 15.0: 0.803204035076952, 16.0: 0.8031950033725327, 17.0: 0.803182942043259, 18.0: 0.8031678952844743, 19.0: 0.8031499034702485, 20.0: 0.8031290043656153, 21.0: 0.8031052339155986}\n"
          ]
        }
      ]
    },
    {
      "cell_type": "code",
      "source": [
        "Ridge_df = pd.DataFrame.from_dict(score)\n",
        "Ridge_df"
      ],
      "metadata": {
        "colab": {
          "base_uri": "https://localhost:8080/",
          "height": 300
        },
        "id": "rv8-oNerYWxu",
        "outputId": "b348e649-8caa-41c4-9cad-540b68d9a0ba"
      },
      "execution_count": null,
      "outputs": [
        {
          "output_type": "execute_result",
          "data": {
            "text/plain": [
              "      0.00      0.01      0.02      0.05      0.06      0.07      0.08   \\\n",
              "0  0.813040  0.812605  0.812551  0.812545  0.812554  0.812564  0.812576   \n",
              "1  0.824334  0.824384  0.824370  0.824359  0.824358  0.824357  0.824357   \n",
              "2  0.781582  0.781889  0.781901  0.781904  0.781903  0.781902  0.781902   \n",
              "3  0.791656  0.791342  0.791297  0.791257  0.791250  0.791244  0.791239   \n",
              "4  0.799402  0.802282  0.802564  0.802770  0.802797  0.802819  0.802836   \n",
              "\n",
              "      0.09      0.10      0.11   ...     12.00     13.00     14.00     15.00  \\\n",
              "0  0.812589  0.812602  0.812615  ...  0.817136  0.817302  0.817460  0.817611   \n",
              "1  0.824357  0.824358  0.824358  ...  0.822840  0.822670  0.822498  0.822325   \n",
              "2  0.781901  0.781899  0.781898  ...  0.781202  0.781162  0.781120  0.781077   \n",
              "3  0.791234  0.791230  0.791226  ...  0.789912  0.789839  0.789766  0.789691   \n",
              "4  0.802851  0.802863  0.802875  ...  0.804972  0.805090  0.805205  0.805317   \n",
              "\n",
              "      16.00     17.00     18.00     19.00     20.00     21.00  \n",
              "0  0.817755  0.817893  0.818025  0.818151  0.818273  0.818389  \n",
              "1  0.822149  0.821971  0.821792  0.821611  0.821428  0.821244  \n",
              "2  0.781031  0.780983  0.780932  0.780879  0.780823  0.780765  \n",
              "3  0.789616  0.789539  0.789460  0.789380  0.789298  0.789215  \n",
              "4  0.805425  0.805529  0.805630  0.805728  0.805823  0.805913  \n",
              "\n",
              "[5 rows x 28 columns]"
            ],
            "text/html": [
              "\n",
              "  <div id=\"df-e4e79d8f-a616-46d5-aa13-d45a2223787c\">\n",
              "    <div class=\"colab-df-container\">\n",
              "      <div>\n",
              "<style scoped>\n",
              "    .dataframe tbody tr th:only-of-type {\n",
              "        vertical-align: middle;\n",
              "    }\n",
              "\n",
              "    .dataframe tbody tr th {\n",
              "        vertical-align: top;\n",
              "    }\n",
              "\n",
              "    .dataframe thead th {\n",
              "        text-align: right;\n",
              "    }\n",
              "</style>\n",
              "<table border=\"1\" class=\"dataframe\">\n",
              "  <thead>\n",
              "    <tr style=\"text-align: right;\">\n",
              "      <th></th>\n",
              "      <th>0.00</th>\n",
              "      <th>0.01</th>\n",
              "      <th>0.02</th>\n",
              "      <th>0.05</th>\n",
              "      <th>0.06</th>\n",
              "      <th>0.07</th>\n",
              "      <th>0.08</th>\n",
              "      <th>0.09</th>\n",
              "      <th>0.10</th>\n",
              "      <th>0.11</th>\n",
              "      <th>...</th>\n",
              "      <th>12.00</th>\n",
              "      <th>13.00</th>\n",
              "      <th>14.00</th>\n",
              "      <th>15.00</th>\n",
              "      <th>16.00</th>\n",
              "      <th>17.00</th>\n",
              "      <th>18.00</th>\n",
              "      <th>19.00</th>\n",
              "      <th>20.00</th>\n",
              "      <th>21.00</th>\n",
              "    </tr>\n",
              "  </thead>\n",
              "  <tbody>\n",
              "    <tr>\n",
              "      <th>0</th>\n",
              "      <td>0.813040</td>\n",
              "      <td>0.812605</td>\n",
              "      <td>0.812551</td>\n",
              "      <td>0.812545</td>\n",
              "      <td>0.812554</td>\n",
              "      <td>0.812564</td>\n",
              "      <td>0.812576</td>\n",
              "      <td>0.812589</td>\n",
              "      <td>0.812602</td>\n",
              "      <td>0.812615</td>\n",
              "      <td>...</td>\n",
              "      <td>0.817136</td>\n",
              "      <td>0.817302</td>\n",
              "      <td>0.817460</td>\n",
              "      <td>0.817611</td>\n",
              "      <td>0.817755</td>\n",
              "      <td>0.817893</td>\n",
              "      <td>0.818025</td>\n",
              "      <td>0.818151</td>\n",
              "      <td>0.818273</td>\n",
              "      <td>0.818389</td>\n",
              "    </tr>\n",
              "    <tr>\n",
              "      <th>1</th>\n",
              "      <td>0.824334</td>\n",
              "      <td>0.824384</td>\n",
              "      <td>0.824370</td>\n",
              "      <td>0.824359</td>\n",
              "      <td>0.824358</td>\n",
              "      <td>0.824357</td>\n",
              "      <td>0.824357</td>\n",
              "      <td>0.824357</td>\n",
              "      <td>0.824358</td>\n",
              "      <td>0.824358</td>\n",
              "      <td>...</td>\n",
              "      <td>0.822840</td>\n",
              "      <td>0.822670</td>\n",
              "      <td>0.822498</td>\n",
              "      <td>0.822325</td>\n",
              "      <td>0.822149</td>\n",
              "      <td>0.821971</td>\n",
              "      <td>0.821792</td>\n",
              "      <td>0.821611</td>\n",
              "      <td>0.821428</td>\n",
              "      <td>0.821244</td>\n",
              "    </tr>\n",
              "    <tr>\n",
              "      <th>2</th>\n",
              "      <td>0.781582</td>\n",
              "      <td>0.781889</td>\n",
              "      <td>0.781901</td>\n",
              "      <td>0.781904</td>\n",
              "      <td>0.781903</td>\n",
              "      <td>0.781902</td>\n",
              "      <td>0.781902</td>\n",
              "      <td>0.781901</td>\n",
              "      <td>0.781899</td>\n",
              "      <td>0.781898</td>\n",
              "      <td>...</td>\n",
              "      <td>0.781202</td>\n",
              "      <td>0.781162</td>\n",
              "      <td>0.781120</td>\n",
              "      <td>0.781077</td>\n",
              "      <td>0.781031</td>\n",
              "      <td>0.780983</td>\n",
              "      <td>0.780932</td>\n",
              "      <td>0.780879</td>\n",
              "      <td>0.780823</td>\n",
              "      <td>0.780765</td>\n",
              "    </tr>\n",
              "    <tr>\n",
              "      <th>3</th>\n",
              "      <td>0.791656</td>\n",
              "      <td>0.791342</td>\n",
              "      <td>0.791297</td>\n",
              "      <td>0.791257</td>\n",
              "      <td>0.791250</td>\n",
              "      <td>0.791244</td>\n",
              "      <td>0.791239</td>\n",
              "      <td>0.791234</td>\n",
              "      <td>0.791230</td>\n",
              "      <td>0.791226</td>\n",
              "      <td>...</td>\n",
              "      <td>0.789912</td>\n",
              "      <td>0.789839</td>\n",
              "      <td>0.789766</td>\n",
              "      <td>0.789691</td>\n",
              "      <td>0.789616</td>\n",
              "      <td>0.789539</td>\n",
              "      <td>0.789460</td>\n",
              "      <td>0.789380</td>\n",
              "      <td>0.789298</td>\n",
              "      <td>0.789215</td>\n",
              "    </tr>\n",
              "    <tr>\n",
              "      <th>4</th>\n",
              "      <td>0.799402</td>\n",
              "      <td>0.802282</td>\n",
              "      <td>0.802564</td>\n",
              "      <td>0.802770</td>\n",
              "      <td>0.802797</td>\n",
              "      <td>0.802819</td>\n",
              "      <td>0.802836</td>\n",
              "      <td>0.802851</td>\n",
              "      <td>0.802863</td>\n",
              "      <td>0.802875</td>\n",
              "      <td>...</td>\n",
              "      <td>0.804972</td>\n",
              "      <td>0.805090</td>\n",
              "      <td>0.805205</td>\n",
              "      <td>0.805317</td>\n",
              "      <td>0.805425</td>\n",
              "      <td>0.805529</td>\n",
              "      <td>0.805630</td>\n",
              "      <td>0.805728</td>\n",
              "      <td>0.805823</td>\n",
              "      <td>0.805913</td>\n",
              "    </tr>\n",
              "  </tbody>\n",
              "</table>\n",
              "<p>5 rows × 28 columns</p>\n",
              "</div>\n",
              "      <button class=\"colab-df-convert\" onclick=\"convertToInteractive('df-e4e79d8f-a616-46d5-aa13-d45a2223787c')\"\n",
              "              title=\"Convert this dataframe to an interactive table.\"\n",
              "              style=\"display:none;\">\n",
              "        \n",
              "  <svg xmlns=\"http://www.w3.org/2000/svg\" height=\"24px\"viewBox=\"0 0 24 24\"\n",
              "       width=\"24px\">\n",
              "    <path d=\"M0 0h24v24H0V0z\" fill=\"none\"/>\n",
              "    <path d=\"M18.56 5.44l.94 2.06.94-2.06 2.06-.94-2.06-.94-.94-2.06-.94 2.06-2.06.94zm-11 1L8.5 8.5l.94-2.06 2.06-.94-2.06-.94L8.5 2.5l-.94 2.06-2.06.94zm10 10l.94 2.06.94-2.06 2.06-.94-2.06-.94-.94-2.06-.94 2.06-2.06.94z\"/><path d=\"M17.41 7.96l-1.37-1.37c-.4-.4-.92-.59-1.43-.59-.52 0-1.04.2-1.43.59L10.3 9.45l-7.72 7.72c-.78.78-.78 2.05 0 2.83L4 21.41c.39.39.9.59 1.41.59.51 0 1.02-.2 1.41-.59l7.78-7.78 2.81-2.81c.8-.78.8-2.07 0-2.86zM5.41 20L4 18.59l7.72-7.72 1.47 1.35L5.41 20z\"/>\n",
              "  </svg>\n",
              "      </button>\n",
              "      \n",
              "  <style>\n",
              "    .colab-df-container {\n",
              "      display:flex;\n",
              "      flex-wrap:wrap;\n",
              "      gap: 12px;\n",
              "    }\n",
              "\n",
              "    .colab-df-convert {\n",
              "      background-color: #E8F0FE;\n",
              "      border: none;\n",
              "      border-radius: 50%;\n",
              "      cursor: pointer;\n",
              "      display: none;\n",
              "      fill: #1967D2;\n",
              "      height: 32px;\n",
              "      padding: 0 0 0 0;\n",
              "      width: 32px;\n",
              "    }\n",
              "\n",
              "    .colab-df-convert:hover {\n",
              "      background-color: #E2EBFA;\n",
              "      box-shadow: 0px 1px 2px rgba(60, 64, 67, 0.3), 0px 1px 3px 1px rgba(60, 64, 67, 0.15);\n",
              "      fill: #174EA6;\n",
              "    }\n",
              "\n",
              "    [theme=dark] .colab-df-convert {\n",
              "      background-color: #3B4455;\n",
              "      fill: #D2E3FC;\n",
              "    }\n",
              "\n",
              "    [theme=dark] .colab-df-convert:hover {\n",
              "      background-color: #434B5C;\n",
              "      box-shadow: 0px 1px 3px 1px rgba(0, 0, 0, 0.15);\n",
              "      filter: drop-shadow(0px 1px 2px rgba(0, 0, 0, 0.3));\n",
              "      fill: #FFFFFF;\n",
              "    }\n",
              "  </style>\n",
              "\n",
              "      <script>\n",
              "        const buttonEl =\n",
              "          document.querySelector('#df-e4e79d8f-a616-46d5-aa13-d45a2223787c button.colab-df-convert');\n",
              "        buttonEl.style.display =\n",
              "          google.colab.kernel.accessAllowed ? 'block' : 'none';\n",
              "\n",
              "        async function convertToInteractive(key) {\n",
              "          const element = document.querySelector('#df-e4e79d8f-a616-46d5-aa13-d45a2223787c');\n",
              "          const dataTable =\n",
              "            await google.colab.kernel.invokeFunction('convertToInteractive',\n",
              "                                                     [key], {});\n",
              "          if (!dataTable) return;\n",
              "\n",
              "          const docLinkHtml = 'Like what you see? Visit the ' +\n",
              "            '<a target=\"_blank\" href=https://colab.research.google.com/notebooks/data_table.ipynb>data table notebook</a>'\n",
              "            + ' to learn more about interactive tables.';\n",
              "          element.innerHTML = '';\n",
              "          dataTable['output_type'] = 'display_data';\n",
              "          await google.colab.output.renderOutput(dataTable, element);\n",
              "          const docLink = document.createElement('div');\n",
              "          docLink.innerHTML = docLinkHtml;\n",
              "          element.appendChild(docLink);\n",
              "        }\n",
              "      </script>\n",
              "    </div>\n",
              "  </div>\n",
              "  "
            ]
          },
          "metadata": {},
          "execution_count": 63
        }
      ]
    },
    {
      "cell_type": "code",
      "source": [
        "#average of respective lambdas for 5 validation sets\n",
        "Ridge_df_avg = pd.DataFrame([avg_score])\n",
        "Ridge_df_avg"
      ],
      "metadata": {
        "colab": {
          "base_uri": "https://localhost:8080/",
          "height": 154
        },
        "id": "WwQpU3lrYa9k",
        "outputId": "bcf63b44-1018-41b9-db24-b7c9ce721d30"
      },
      "execution_count": null,
      "outputs": [
        {
          "output_type": "execute_result",
          "data": {
            "text/plain": [
              "      0.00    0.01      0.02      0.05      0.06      0.07      0.08   \\\n",
              "0  0.802003  0.8025  0.802537  0.802567  0.802572  0.802577  0.802582   \n",
              "\n",
              "      0.09     0.10      0.11   ...     12.00     13.00    14.00     15.00  \\\n",
              "0  0.802586  0.80259  0.802594  ...  0.803212  0.803213  0.80321  0.803204   \n",
              "\n",
              "      16.00     17.00     18.00    19.00     20.00     21.00  \n",
              "0  0.803195  0.803183  0.803168  0.80315  0.803129  0.803105  \n",
              "\n",
              "[1 rows x 28 columns]"
            ],
            "text/html": [
              "\n",
              "  <div id=\"df-07e25119-f83d-49cc-87a1-c48ace880346\">\n",
              "    <div class=\"colab-df-container\">\n",
              "      <div>\n",
              "<style scoped>\n",
              "    .dataframe tbody tr th:only-of-type {\n",
              "        vertical-align: middle;\n",
              "    }\n",
              "\n",
              "    .dataframe tbody tr th {\n",
              "        vertical-align: top;\n",
              "    }\n",
              "\n",
              "    .dataframe thead th {\n",
              "        text-align: right;\n",
              "    }\n",
              "</style>\n",
              "<table border=\"1\" class=\"dataframe\">\n",
              "  <thead>\n",
              "    <tr style=\"text-align: right;\">\n",
              "      <th></th>\n",
              "      <th>0.00</th>\n",
              "      <th>0.01</th>\n",
              "      <th>0.02</th>\n",
              "      <th>0.05</th>\n",
              "      <th>0.06</th>\n",
              "      <th>0.07</th>\n",
              "      <th>0.08</th>\n",
              "      <th>0.09</th>\n",
              "      <th>0.10</th>\n",
              "      <th>0.11</th>\n",
              "      <th>...</th>\n",
              "      <th>12.00</th>\n",
              "      <th>13.00</th>\n",
              "      <th>14.00</th>\n",
              "      <th>15.00</th>\n",
              "      <th>16.00</th>\n",
              "      <th>17.00</th>\n",
              "      <th>18.00</th>\n",
              "      <th>19.00</th>\n",
              "      <th>20.00</th>\n",
              "      <th>21.00</th>\n",
              "    </tr>\n",
              "  </thead>\n",
              "  <tbody>\n",
              "    <tr>\n",
              "      <th>0</th>\n",
              "      <td>0.802003</td>\n",
              "      <td>0.8025</td>\n",
              "      <td>0.802537</td>\n",
              "      <td>0.802567</td>\n",
              "      <td>0.802572</td>\n",
              "      <td>0.802577</td>\n",
              "      <td>0.802582</td>\n",
              "      <td>0.802586</td>\n",
              "      <td>0.80259</td>\n",
              "      <td>0.802594</td>\n",
              "      <td>...</td>\n",
              "      <td>0.803212</td>\n",
              "      <td>0.803213</td>\n",
              "      <td>0.80321</td>\n",
              "      <td>0.803204</td>\n",
              "      <td>0.803195</td>\n",
              "      <td>0.803183</td>\n",
              "      <td>0.803168</td>\n",
              "      <td>0.80315</td>\n",
              "      <td>0.803129</td>\n",
              "      <td>0.803105</td>\n",
              "    </tr>\n",
              "  </tbody>\n",
              "</table>\n",
              "<p>1 rows × 28 columns</p>\n",
              "</div>\n",
              "      <button class=\"colab-df-convert\" onclick=\"convertToInteractive('df-07e25119-f83d-49cc-87a1-c48ace880346')\"\n",
              "              title=\"Convert this dataframe to an interactive table.\"\n",
              "              style=\"display:none;\">\n",
              "        \n",
              "  <svg xmlns=\"http://www.w3.org/2000/svg\" height=\"24px\"viewBox=\"0 0 24 24\"\n",
              "       width=\"24px\">\n",
              "    <path d=\"M0 0h24v24H0V0z\" fill=\"none\"/>\n",
              "    <path d=\"M18.56 5.44l.94 2.06.94-2.06 2.06-.94-2.06-.94-.94-2.06-.94 2.06-2.06.94zm-11 1L8.5 8.5l.94-2.06 2.06-.94-2.06-.94L8.5 2.5l-.94 2.06-2.06.94zm10 10l.94 2.06.94-2.06 2.06-.94-2.06-.94-.94-2.06-.94 2.06-2.06.94z\"/><path d=\"M17.41 7.96l-1.37-1.37c-.4-.4-.92-.59-1.43-.59-.52 0-1.04.2-1.43.59L10.3 9.45l-7.72 7.72c-.78.78-.78 2.05 0 2.83L4 21.41c.39.39.9.59 1.41.59.51 0 1.02-.2 1.41-.59l7.78-7.78 2.81-2.81c.8-.78.8-2.07 0-2.86zM5.41 20L4 18.59l7.72-7.72 1.47 1.35L5.41 20z\"/>\n",
              "  </svg>\n",
              "      </button>\n",
              "      \n",
              "  <style>\n",
              "    .colab-df-container {\n",
              "      display:flex;\n",
              "      flex-wrap:wrap;\n",
              "      gap: 12px;\n",
              "    }\n",
              "\n",
              "    .colab-df-convert {\n",
              "      background-color: #E8F0FE;\n",
              "      border: none;\n",
              "      border-radius: 50%;\n",
              "      cursor: pointer;\n",
              "      display: none;\n",
              "      fill: #1967D2;\n",
              "      height: 32px;\n",
              "      padding: 0 0 0 0;\n",
              "      width: 32px;\n",
              "    }\n",
              "\n",
              "    .colab-df-convert:hover {\n",
              "      background-color: #E2EBFA;\n",
              "      box-shadow: 0px 1px 2px rgba(60, 64, 67, 0.3), 0px 1px 3px 1px rgba(60, 64, 67, 0.15);\n",
              "      fill: #174EA6;\n",
              "    }\n",
              "\n",
              "    [theme=dark] .colab-df-convert {\n",
              "      background-color: #3B4455;\n",
              "      fill: #D2E3FC;\n",
              "    }\n",
              "\n",
              "    [theme=dark] .colab-df-convert:hover {\n",
              "      background-color: #434B5C;\n",
              "      box-shadow: 0px 1px 3px 1px rgba(0, 0, 0, 0.15);\n",
              "      filter: drop-shadow(0px 1px 2px rgba(0, 0, 0, 0.3));\n",
              "      fill: #FFFFFF;\n",
              "    }\n",
              "  </style>\n",
              "\n",
              "      <script>\n",
              "        const buttonEl =\n",
              "          document.querySelector('#df-07e25119-f83d-49cc-87a1-c48ace880346 button.colab-df-convert');\n",
              "        buttonEl.style.display =\n",
              "          google.colab.kernel.accessAllowed ? 'block' : 'none';\n",
              "\n",
              "        async function convertToInteractive(key) {\n",
              "          const element = document.querySelector('#df-07e25119-f83d-49cc-87a1-c48ace880346');\n",
              "          const dataTable =\n",
              "            await google.colab.kernel.invokeFunction('convertToInteractive',\n",
              "                                                     [key], {});\n",
              "          if (!dataTable) return;\n",
              "\n",
              "          const docLinkHtml = 'Like what you see? Visit the ' +\n",
              "            '<a target=\"_blank\" href=https://colab.research.google.com/notebooks/data_table.ipynb>data table notebook</a>'\n",
              "            + ' to learn more about interactive tables.';\n",
              "          element.innerHTML = '';\n",
              "          dataTable['output_type'] = 'display_data';\n",
              "          await google.colab.output.renderOutput(dataTable, element);\n",
              "          const docLink = document.createElement('div');\n",
              "          docLink.innerHTML = docLinkHtml;\n",
              "          element.appendChild(docLink);\n",
              "        }\n",
              "      </script>\n",
              "    </div>\n",
              "  </div>\n",
              "  "
            ]
          },
          "metadata": {},
          "execution_count": 64
        }
      ]
    },
    {
      "cell_type": "code",
      "source": [
        "#Finding alpha for respective highest r2\n",
        "\n",
        "dict1 = avg_score\n",
        "a = [0]\n",
        "\n",
        "for key,value in dict1.items():\n",
        "    if value > a:\n",
        "        a = value\n",
        "        k = key\n",
        "\n",
        "print(k,\":\",a)"
      ],
      "metadata": {
        "colab": {
          "base_uri": "https://localhost:8080/"
        },
        "id": "6LGDztfra_B2",
        "outputId": "dd445fb6-943b-4c25-d756-df4bcfbd5693"
      },
      "execution_count": null,
      "outputs": [
        {
          "output_type": "stream",
          "name": "stdout",
          "text": [
            "13.0 : 0.8032128013764449\n"
          ]
        }
      ]
    }
  ]
}